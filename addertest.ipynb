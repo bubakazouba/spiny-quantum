{
 "cells": [
  {
   "cell_type": "code",
   "execution_count": 3,
   "id": "66a00981-377d-4e7e-acfd-331c819c8b7d",
   "metadata": {},
   "outputs": [],
   "source": [
    "# The adder seems a bit suspicious because it looks like it violates the cloning theorem\n",
    "# I am just testing here what happens when I add a random state to |0>\n",
    "\n",
    "from qiskit import IBMQ, BasicAer\n",
    "from qiskit.utils import algorithm_globals, QuantumInstance\n",
    "from qiskit.algorithms import QAOA, NumPyMinimumEigensolver\n",
    "from qiskit.visualization import plot_histogram\n",
    "import qiskit.quantum_info as qi\n",
    "from qiskit.quantum_info import Statevector\n",
    "\n",
    "from typing import List, Tuple\n",
    "import numpy as np\n",
    "from qiskit.providers.ibmq import least_busy\n",
    "from qiskit import QuantumCircuit, execute\n",
    "from qiskit_optimization import QuadraticProgram\n",
    "from qiskit.circuit.quantumregister import QuantumRegister\n",
    "from qiskit.circuit.classicalregister import ClassicalRegister\n",
    "from qiskit.aqua.components.oracles import TruthTableOracle\n",
    "from qiskit.circuit.library import GroverOperator, ZGate\n",
    "\n",
    "from qiskit_optimization.translators import from_docplex_mp\n",
    "from qiskit.circuit.library.arithmetic.adders.draper_qft_adder import DraperQFTAdder\n",
    "from qiskit.quantum_info import Statevector\n",
    "\n",
    "# provider = IBMQ.load_account()"
   ]
  },
  {
   "cell_type": "code",
   "execution_count": 4,
   "id": "18333a65-22ca-40ff-86c5-56e1333cc609",
   "metadata": {},
   "outputs": [
    {
     "name": "stdout",
     "output_type": "stream",
     "text": [
      "{'0000': 0.4999999999999996, '0001': 9.374466873641493e-34, '0100': 9.682320048931735e-38, '0101': 0.4999999999999996, '1000': 4.5355267350666824e-35, '1001': 9.374466873641493e-34, '1100': 9.682320048931735e-38, '1101': 4.5355267350666824e-35}\n"
     ]
    }
   ],
   "source": [
    "c = QuantumCircuit(QuantumRegister(2),QuantumRegister(2))\n",
    "c.h(0)\n",
    "# c.h(1)\n",
    "d = DraperQFTAdder(2)\n",
    "c = c.compose(d, [0,1,2,3])\n",
    "c.draw('mpl')\n",
    "\n",
    "state_a = qi.Statevector.from_int(0, 4)\n",
    "state_b = qi.Statevector.from_int(0, 4)\n",
    "state_in = state_a.expand(state_b)\n",
    "\n",
    "state_out = state_in.evolve(c)\n",
    "\n",
    "#draw using latex\n",
    "state_out.draw('latex')\n",
    "print(state_out.probabilities_dict())"
   ]
  },
  {
   "cell_type": "code",
   "execution_count": null,
   "id": "6b4799a1-7d6b-40f4-9f4a-b07a89bbb840",
   "metadata": {},
   "outputs": [],
   "source": []
  },
  {
   "cell_type": "code",
   "execution_count": null,
   "id": "11680d3c-10bf-46fe-8cc6-8ee48d963a0d",
   "metadata": {},
   "outputs": [],
   "source": []
  },
  {
   "cell_type": "code",
   "execution_count": null,
   "id": "8288f6ce-0f93-4540-95aa-8e9aa765dfe7",
   "metadata": {},
   "outputs": [],
   "source": []
  },
  {
   "cell_type": "code",
   "execution_count": null,
   "id": "27a32250-ee94-45bd-b3f5-eacabb3dea20",
   "metadata": {
    "tags": []
   },
   "outputs": [],
   "source": []
  },
  {
   "cell_type": "code",
   "execution_count": null,
   "id": "548d26b6-b54b-414c-b854-7274d99e9691",
   "metadata": {},
   "outputs": [],
   "source": []
  }
 ],
 "metadata": {
  "kernelspec": {
   "display_name": "Python 3 (ipykernel)",
   "language": "python",
   "name": "python3"
  },
  "language_info": {
   "codemirror_mode": {
    "name": "ipython",
    "version": 3
   },
   "file_extension": ".py",
   "mimetype": "text/x-python",
   "name": "python",
   "nbconvert_exporter": "python",
   "pygments_lexer": "ipython3",
   "version": "3.9.6"
  }
 },
 "nbformat": 4,
 "nbformat_minor": 5
}
